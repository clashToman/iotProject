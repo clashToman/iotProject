import numpy as np
import pandas as pd 
import seaborn as sns
import matplotlib.pyplot as plt

df = pd.read_csv("Fertilizer Prediction.csv")
# print(df.head())
# print(df.describe())
# print(df['Soil Type'].unique())

sns.countplot(x='Soil Type', data = df)
plt.figure(figsize=(16,8))
sns.countplot(x='Crop Type', data = df)